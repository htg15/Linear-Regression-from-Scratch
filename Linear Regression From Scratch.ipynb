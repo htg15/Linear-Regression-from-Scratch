{
 "cells": [
  {
   "cell_type": "code",
   "execution_count": 1,
   "id": "532720ff",
   "metadata": {},
   "outputs": [
    {
     "name": "stdout",
     "output_type": "stream",
     "text": [
      "Intercept    1.151625\n",
      "X            0.379061\n",
      "dtype: float64 1.5874053028977415\n"
     ]
    },
    {
     "name": "stderr",
     "output_type": "stream",
     "text": [
      "C:\\Users\\HARSHA\\anaconda3\\lib\\site-packages\\numpy\\core\\fromnumeric.py:84: FutureWarning: In a future version, DataFrame.min(axis=None) will return a scalar min over the entire DataFrame. To retain the old behavior, use 'frame.min(axis=0)' or just 'frame.min()'\n",
      "  return reduction(axis=axis, out=out, **passkwargs)\n",
      "C:\\Users\\HARSHA\\anaconda3\\lib\\site-packages\\numpy\\core\\fromnumeric.py:84: FutureWarning: In a future version, DataFrame.max(axis=None) will return a scalar max over the entire DataFrame. To retain the old behavior, use 'frame.max(axis=0)' or just 'frame.max()'\n",
      "  return reduction(axis=axis, out=out, **passkwargs)\n"
     ]
    },
    {
     "data": {
      "text/plain": [
       "<matplotlib.legend.Legend at 0x243a99a5610>"
      ]
     },
     "execution_count": 1,
     "metadata": {},
     "output_type": "execute_result"
    },
    {
     "data": {
      "image/png": "[encoded data removed]",
      "text/plain": [
       "<Figure size 432x288 with 1 Axes>"
      ]
     },
     "metadata": {
      "needs_background": "light"
     },
     "output_type": "display_data"
    }
   ],
   "source": [
    "#Importing necessary libraries\n",
    "import pandas as pd\n",
    "import numpy as np\n",
    "import matplotlib.pyplot as plt\n",
    "\n",
    "\n",
    "# Given Input\n",
    "Data=[[-3 ,-1],[-2 ,1],[-1.5 ,1.5],[1, 1],[3.5 ,2.5]]\n",
    "x = [row[0] for row in Data]\n",
    "y=[row[1] for row in Data]\n",
    "\n",
    "\n",
    "\n",
    "\n",
    "# Dataframe to process the changes\n",
    "X=pd.DataFrame(columns=['Intercept','X'])\n",
    "X['Intercept']=[1 for i in range(len(x))]\n",
    "X.X=[row[0] for row in Data]\n",
    "Y=pd.DataFrame(columns=['Y'],data=y)\n",
    "pars = np.linalg.inv(X.T @ X) @ X.T @ y\n",
    "pars.index = X.columns\n",
    "\n",
    "# Plot the best-fit function\n",
    "xx=np.linspace(np.amin(X),np.amax(X),50)\n",
    "yy=pars[0]+pars[1]*xx\n",
    "yhat=pars[0] + pars[1] * X\n",
    "yhat=yhat['X']\n",
    "\n",
    "# Quantity being minimized\n",
    "Qmin = (np.sum((y - yhat) ** 2)) ** 0.5\n",
    "print(pars, Qmin)\n",
    "plt.scatter(X['X'], y,color='r',label='Data')\n",
    "plt.plot(xx, yy,color='b',label='Best Fit Function')\n",
    "plt.legend(['Data','Best Fit Function'])"
   ]
  },
  {
   "cell_type": "code",
   "execution_count": null,
   "id": "4efd7bfa",
   "metadata": {},
   "outputs": [],
   "source": []
  }
 ],
 "metadata": {
  "kernelspec": {
   "display_name": "Python 3 (ipykernel)",
   "language": "python",
   "name": "python3"
  },
  "language_info": {
   "codemirror_mode": {
    "name": "ipython",
    "version": 3
   },
   "file_extension": ".py",
   "mimetype": "text/x-python",
   "name": "python",
   "nbconvert_exporter": "python",
   "pygments_lexer": "ipython3",
   "version": "3.9.12"
  }
 },
 "nbformat": 4,
 "nbformat_minor": 5
}
